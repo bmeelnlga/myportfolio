{
  "nbformat": 4,
  "nbformat_minor": 0,
  "metadata": {
    "colab": {
      "provenance": [],
      "include_colab_link": true
    },
    "kernelspec": {
      "name": "python3",
      "display_name": "Python 3"
    },
    "language_info": {
      "name": "python"
    }
  },
  "cells": [
    {
      "cell_type": "markdown",
      "metadata": {
        "id": "view-in-github",
        "colab_type": "text"
      },
      "source": [
        "<a href=\"https://colab.research.google.com/github/bmeelnlga/myportfolio/blob/main/Model_Training__Practice.ipynb\" target=\"_parent\"><img src=\"https://colab.research.google.com/assets/colab-badge.svg\" alt=\"Open In Colab\"/></a>"
      ]
    },
    {
      "cell_type": "markdown",
      "source": [
        "Step 1: Download the **MIT-BIH Arrhythmia dataset** from Kaggle. https://www.kaggle.com/datasets/shayanfazeli/heartbeat"
      ],
      "metadata": {
        "id": "2hldf9c9Kmai"
      }
    },
    {
      "cell_type": "code",
      "source": [
        "import kagglehub\n",
        "\n",
        "# Download latest version\n",
        "path = kagglehub.dataset_download(\"shayanfazeli/heartbeat\")\n",
        "\n",
        "print(\"Path to dataset files:\", path)"
      ],
      "metadata": {
        "id": "GhUZwJQyj43c",
        "colab": {
          "base_uri": "https://localhost:8080/"
        },
        "outputId": "867ebf62-6f86-42ba-883f-28474cce1231"
      },
      "execution_count": null,
      "outputs": [
        {
          "output_type": "stream",
          "name": "stdout",
          "text": [
            "Path to dataset files: /kaggle/input/heartbeat\n"
          ]
        }
      ]
    },
    {
      "cell_type": "markdown",
      "source": [
        "Step 2: Data preprocessing (If applicable)"
      ],
      "metadata": {
        "id": "8T-UhlkVMz6d"
      }
    },
    {
      "cell_type": "code",
      "source": [
        "import numpy as np\n",
        "import pandas as pd\n",
        "from sklearn.model_selection import train_test_split\n",
        "from tensorflow.keras.utils import to_categorical\n",
        "\n",
        "# 讀取數據\n",
        "train_df = pd.read_csv(f\"{path}/mitbih_train.csv\", header=None)\n",
        "test_df = pd.read_csv(f\"{path}/mitbih_test.csv\", header=None)\n",
        "\n",
        "# 提取 X (特徵) 和 y (標籤)\n",
        "X_train, y_train = train_df.iloc[:, :-1].values, train_df.iloc[:, -1].values\n",
        "X_test, y_test = test_df.iloc[:, :-1].values, test_df.iloc[:, -1].values\n",
        "\n",
        "# 標準化 ECG 訊號 (縮放至 [0,1])\n",
        "X_train = X_train / np.max(X_train)\n",
        "X_test = X_test / np.max(X_test)\n",
        "\n",
        "# One-hot 編碼\n",
        "y_train = to_categorical(y_train, num_classes=5)\n",
        "y_test = to_categorical(y_test, num_classes=5)\n",
        "\n",
        "# 訓練集與測試集的形狀\n",
        "print(f\"訓練集: {X_train.shape}, 測試集: {X_test.shape}\")\n"
      ],
      "metadata": {
        "id": "VJ6AtD_rj3YH",
        "colab": {
          "base_uri": "https://localhost:8080/"
        },
        "outputId": "45db6590-2f93-4f1a-ab02-7d65d58f9384"
      },
      "execution_count": null,
      "outputs": [
        {
          "output_type": "stream",
          "name": "stdout",
          "text": [
            "訓練集: (87554, 187), 測試集: (21892, 187)\n"
          ]
        }
      ]
    },
    {
      "cell_type": "markdown",
      "source": [
        "Step 3: Building model (5 classes)"
      ],
      "metadata": {
        "id": "eM-FNrC5MMox"
      }
    },
    {
      "cell_type": "code",
      "source": [
        "import tensorflow as tf\n",
        "from tensorflow.keras.models import Sequential\n",
        "from tensorflow.keras.layers import Conv1D, MaxPooling1D, Flatten, Dense, Dropout\n",
        "\n",
        "# 建立 CNN 模型\n",
        "model = Sequential([\n",
        "    Conv1D(filters=64, kernel_size=5, activation=\"relu\", input_shape=(X_train.shape[1], 1)),\n",
        "    MaxPooling1D(pool_size=2),\n",
        "\n",
        "    Conv1D(filters=128, kernel_size=5, activation=\"relu\"),\n",
        "    MaxPooling1D(pool_size=2),\n",
        "\n",
        "    Conv1D(filters=256, kernel_size=3, activation=\"relu\"),\n",
        "    Conv1D(filters=256, kernel_size=3, activation=\"relu\"),\n",
        "    MaxPooling1D(pool_size=2),\n",
        "\n",
        "    Flatten(),\n",
        "    Dense(128, activation=\"relu\"),\n",
        "    Dropout(0.5),  # 防止過擬合\n",
        "    Dense(5, activation=\"softmax\")  # 五個類別\n",
        "])\n",
        "\n",
        "# 編譯模型\n",
        "model.compile(optimizer=\"adam\", loss=\"categorical_crossentropy\", metrics=[\"accuracy\"])\n",
        "\n",
        "# 顯示模型架構\n",
        "model.summary()\n"
      ],
      "metadata": {
        "id": "BRvF70Njj2Ld",
        "colab": {
          "base_uri": "https://localhost:8080/",
          "height": 537
        },
        "outputId": "f7bf81f7-b0eb-4aeb-8bfd-c6b476c0f711"
      },
      "execution_count": null,
      "outputs": [
        {
          "output_type": "stream",
          "name": "stderr",
          "text": [
            "/usr/local/lib/python3.11/dist-packages/keras/src/layers/convolutional/base_conv.py:107: UserWarning: Do not pass an `input_shape`/`input_dim` argument to a layer. When using Sequential models, prefer using an `Input(shape)` object as the first layer in the model instead.\n",
            "  super().__init__(activity_regularizer=activity_regularizer, **kwargs)\n"
          ]
        },
        {
          "output_type": "display_data",
          "data": {
            "text/plain": [
              "\u001b[1mModel: \"sequential\"\u001b[0m\n"
            ],
            "text/html": [
              "<pre style=\"white-space:pre;overflow-x:auto;line-height:normal;font-family:Menlo,'DejaVu Sans Mono',consolas,'Courier New',monospace\"><span style=\"font-weight: bold\">Model: \"sequential\"</span>\n",
              "</pre>\n"
            ]
          },
          "metadata": {}
        },
        {
          "output_type": "display_data",
          "data": {
            "text/plain": [
              "┏━━━━━━━━━━━━━━━━━━━━━━━━━━━━━━━━━┳━━━━━━━━━━━━━━━━━━━━━━━━┳━━━━━━━━━━━━━━━┓\n",
              "┃\u001b[1m \u001b[0m\u001b[1mLayer (type)                   \u001b[0m\u001b[1m \u001b[0m┃\u001b[1m \u001b[0m\u001b[1mOutput Shape          \u001b[0m\u001b[1m \u001b[0m┃\u001b[1m \u001b[0m\u001b[1m      Param #\u001b[0m\u001b[1m \u001b[0m┃\n",
              "┡━━━━━━━━━━━━━━━━━━━━━━━━━━━━━━━━━╇━━━━━━━━━━━━━━━━━━━━━━━━╇━━━━━━━━━━━━━━━┩\n",
              "│ conv1d (\u001b[38;5;33mConv1D\u001b[0m)                 │ (\u001b[38;5;45mNone\u001b[0m, \u001b[38;5;34m183\u001b[0m, \u001b[38;5;34m64\u001b[0m)        │           \u001b[38;5;34m384\u001b[0m │\n",
              "├─────────────────────────────────┼────────────────────────┼───────────────┤\n",
              "│ max_pooling1d (\u001b[38;5;33mMaxPooling1D\u001b[0m)    │ (\u001b[38;5;45mNone\u001b[0m, \u001b[38;5;34m91\u001b[0m, \u001b[38;5;34m64\u001b[0m)         │             \u001b[38;5;34m0\u001b[0m │\n",
              "├─────────────────────────────────┼────────────────────────┼───────────────┤\n",
              "│ conv1d_1 (\u001b[38;5;33mConv1D\u001b[0m)               │ (\u001b[38;5;45mNone\u001b[0m, \u001b[38;5;34m87\u001b[0m, \u001b[38;5;34m128\u001b[0m)        │        \u001b[38;5;34m41,088\u001b[0m │\n",
              "├─────────────────────────────────┼────────────────────────┼───────────────┤\n",
              "│ max_pooling1d_1 (\u001b[38;5;33mMaxPooling1D\u001b[0m)  │ (\u001b[38;5;45mNone\u001b[0m, \u001b[38;5;34m43\u001b[0m, \u001b[38;5;34m128\u001b[0m)        │             \u001b[38;5;34m0\u001b[0m │\n",
              "├─────────────────────────────────┼────────────────────────┼───────────────┤\n",
              "│ conv1d_2 (\u001b[38;5;33mConv1D\u001b[0m)               │ (\u001b[38;5;45mNone\u001b[0m, \u001b[38;5;34m41\u001b[0m, \u001b[38;5;34m256\u001b[0m)        │        \u001b[38;5;34m98,560\u001b[0m │\n",
              "├─────────────────────────────────┼────────────────────────┼───────────────┤\n",
              "│ conv1d_3 (\u001b[38;5;33mConv1D\u001b[0m)               │ (\u001b[38;5;45mNone\u001b[0m, \u001b[38;5;34m39\u001b[0m, \u001b[38;5;34m256\u001b[0m)        │       \u001b[38;5;34m196,864\u001b[0m │\n",
              "├─────────────────────────────────┼────────────────────────┼───────────────┤\n",
              "│ max_pooling1d_2 (\u001b[38;5;33mMaxPooling1D\u001b[0m)  │ (\u001b[38;5;45mNone\u001b[0m, \u001b[38;5;34m19\u001b[0m, \u001b[38;5;34m256\u001b[0m)        │             \u001b[38;5;34m0\u001b[0m │\n",
              "├─────────────────────────────────┼────────────────────────┼───────────────┤\n",
              "│ flatten (\u001b[38;5;33mFlatten\u001b[0m)               │ (\u001b[38;5;45mNone\u001b[0m, \u001b[38;5;34m4864\u001b[0m)           │             \u001b[38;5;34m0\u001b[0m │\n",
              "├─────────────────────────────────┼────────────────────────┼───────────────┤\n",
              "│ dense (\u001b[38;5;33mDense\u001b[0m)                   │ (\u001b[38;5;45mNone\u001b[0m, \u001b[38;5;34m128\u001b[0m)            │       \u001b[38;5;34m622,720\u001b[0m │\n",
              "├─────────────────────────────────┼────────────────────────┼───────────────┤\n",
              "│ dropout (\u001b[38;5;33mDropout\u001b[0m)               │ (\u001b[38;5;45mNone\u001b[0m, \u001b[38;5;34m128\u001b[0m)            │             \u001b[38;5;34m0\u001b[0m │\n",
              "├─────────────────────────────────┼────────────────────────┼───────────────┤\n",
              "│ dense_1 (\u001b[38;5;33mDense\u001b[0m)                 │ (\u001b[38;5;45mNone\u001b[0m, \u001b[38;5;34m5\u001b[0m)              │           \u001b[38;5;34m645\u001b[0m │\n",
              "└─────────────────────────────────┴────────────────────────┴───────────────┘\n"
            ],
            "text/html": [
              "<pre style=\"white-space:pre;overflow-x:auto;line-height:normal;font-family:Menlo,'DejaVu Sans Mono',consolas,'Courier New',monospace\">┏━━━━━━━━━━━━━━━━━━━━━━━━━━━━━━━━━┳━━━━━━━━━━━━━━━━━━━━━━━━┳━━━━━━━━━━━━━━━┓\n",
              "┃<span style=\"font-weight: bold\"> Layer (type)                    </span>┃<span style=\"font-weight: bold\"> Output Shape           </span>┃<span style=\"font-weight: bold\">       Param # </span>┃\n",
              "┡━━━━━━━━━━━━━━━━━━━━━━━━━━━━━━━━━╇━━━━━━━━━━━━━━━━━━━━━━━━╇━━━━━━━━━━━━━━━┩\n",
              "│ conv1d (<span style=\"color: #0087ff; text-decoration-color: #0087ff\">Conv1D</span>)                 │ (<span style=\"color: #00d7ff; text-decoration-color: #00d7ff\">None</span>, <span style=\"color: #00af00; text-decoration-color: #00af00\">183</span>, <span style=\"color: #00af00; text-decoration-color: #00af00\">64</span>)        │           <span style=\"color: #00af00; text-decoration-color: #00af00\">384</span> │\n",
              "├─────────────────────────────────┼────────────────────────┼───────────────┤\n",
              "│ max_pooling1d (<span style=\"color: #0087ff; text-decoration-color: #0087ff\">MaxPooling1D</span>)    │ (<span style=\"color: #00d7ff; text-decoration-color: #00d7ff\">None</span>, <span style=\"color: #00af00; text-decoration-color: #00af00\">91</span>, <span style=\"color: #00af00; text-decoration-color: #00af00\">64</span>)         │             <span style=\"color: #00af00; text-decoration-color: #00af00\">0</span> │\n",
              "├─────────────────────────────────┼────────────────────────┼───────────────┤\n",
              "│ conv1d_1 (<span style=\"color: #0087ff; text-decoration-color: #0087ff\">Conv1D</span>)               │ (<span style=\"color: #00d7ff; text-decoration-color: #00d7ff\">None</span>, <span style=\"color: #00af00; text-decoration-color: #00af00\">87</span>, <span style=\"color: #00af00; text-decoration-color: #00af00\">128</span>)        │        <span style=\"color: #00af00; text-decoration-color: #00af00\">41,088</span> │\n",
              "├─────────────────────────────────┼────────────────────────┼───────────────┤\n",
              "│ max_pooling1d_1 (<span style=\"color: #0087ff; text-decoration-color: #0087ff\">MaxPooling1D</span>)  │ (<span style=\"color: #00d7ff; text-decoration-color: #00d7ff\">None</span>, <span style=\"color: #00af00; text-decoration-color: #00af00\">43</span>, <span style=\"color: #00af00; text-decoration-color: #00af00\">128</span>)        │             <span style=\"color: #00af00; text-decoration-color: #00af00\">0</span> │\n",
              "├─────────────────────────────────┼────────────────────────┼───────────────┤\n",
              "│ conv1d_2 (<span style=\"color: #0087ff; text-decoration-color: #0087ff\">Conv1D</span>)               │ (<span style=\"color: #00d7ff; text-decoration-color: #00d7ff\">None</span>, <span style=\"color: #00af00; text-decoration-color: #00af00\">41</span>, <span style=\"color: #00af00; text-decoration-color: #00af00\">256</span>)        │        <span style=\"color: #00af00; text-decoration-color: #00af00\">98,560</span> │\n",
              "├─────────────────────────────────┼────────────────────────┼───────────────┤\n",
              "│ conv1d_3 (<span style=\"color: #0087ff; text-decoration-color: #0087ff\">Conv1D</span>)               │ (<span style=\"color: #00d7ff; text-decoration-color: #00d7ff\">None</span>, <span style=\"color: #00af00; text-decoration-color: #00af00\">39</span>, <span style=\"color: #00af00; text-decoration-color: #00af00\">256</span>)        │       <span style=\"color: #00af00; text-decoration-color: #00af00\">196,864</span> │\n",
              "├─────────────────────────────────┼────────────────────────┼───────────────┤\n",
              "│ max_pooling1d_2 (<span style=\"color: #0087ff; text-decoration-color: #0087ff\">MaxPooling1D</span>)  │ (<span style=\"color: #00d7ff; text-decoration-color: #00d7ff\">None</span>, <span style=\"color: #00af00; text-decoration-color: #00af00\">19</span>, <span style=\"color: #00af00; text-decoration-color: #00af00\">256</span>)        │             <span style=\"color: #00af00; text-decoration-color: #00af00\">0</span> │\n",
              "├─────────────────────────────────┼────────────────────────┼───────────────┤\n",
              "│ flatten (<span style=\"color: #0087ff; text-decoration-color: #0087ff\">Flatten</span>)               │ (<span style=\"color: #00d7ff; text-decoration-color: #00d7ff\">None</span>, <span style=\"color: #00af00; text-decoration-color: #00af00\">4864</span>)           │             <span style=\"color: #00af00; text-decoration-color: #00af00\">0</span> │\n",
              "├─────────────────────────────────┼────────────────────────┼───────────────┤\n",
              "│ dense (<span style=\"color: #0087ff; text-decoration-color: #0087ff\">Dense</span>)                   │ (<span style=\"color: #00d7ff; text-decoration-color: #00d7ff\">None</span>, <span style=\"color: #00af00; text-decoration-color: #00af00\">128</span>)            │       <span style=\"color: #00af00; text-decoration-color: #00af00\">622,720</span> │\n",
              "├─────────────────────────────────┼────────────────────────┼───────────────┤\n",
              "│ dropout (<span style=\"color: #0087ff; text-decoration-color: #0087ff\">Dropout</span>)               │ (<span style=\"color: #00d7ff; text-decoration-color: #00d7ff\">None</span>, <span style=\"color: #00af00; text-decoration-color: #00af00\">128</span>)            │             <span style=\"color: #00af00; text-decoration-color: #00af00\">0</span> │\n",
              "├─────────────────────────────────┼────────────────────────┼───────────────┤\n",
              "│ dense_1 (<span style=\"color: #0087ff; text-decoration-color: #0087ff\">Dense</span>)                 │ (<span style=\"color: #00d7ff; text-decoration-color: #00d7ff\">None</span>, <span style=\"color: #00af00; text-decoration-color: #00af00\">5</span>)              │           <span style=\"color: #00af00; text-decoration-color: #00af00\">645</span> │\n",
              "└─────────────────────────────────┴────────────────────────┴───────────────┘\n",
              "</pre>\n"
            ]
          },
          "metadata": {}
        },
        {
          "output_type": "display_data",
          "data": {
            "text/plain": [
              "\u001b[1m Total params: \u001b[0m\u001b[38;5;34m960,261\u001b[0m (3.66 MB)\n"
            ],
            "text/html": [
              "<pre style=\"white-space:pre;overflow-x:auto;line-height:normal;font-family:Menlo,'DejaVu Sans Mono',consolas,'Courier New',monospace\"><span style=\"font-weight: bold\"> Total params: </span><span style=\"color: #00af00; text-decoration-color: #00af00\">960,261</span> (3.66 MB)\n",
              "</pre>\n"
            ]
          },
          "metadata": {}
        },
        {
          "output_type": "display_data",
          "data": {
            "text/plain": [
              "\u001b[1m Trainable params: \u001b[0m\u001b[38;5;34m960,261\u001b[0m (3.66 MB)\n"
            ],
            "text/html": [
              "<pre style=\"white-space:pre;overflow-x:auto;line-height:normal;font-family:Menlo,'DejaVu Sans Mono',consolas,'Courier New',monospace\"><span style=\"font-weight: bold\"> Trainable params: </span><span style=\"color: #00af00; text-decoration-color: #00af00\">960,261</span> (3.66 MB)\n",
              "</pre>\n"
            ]
          },
          "metadata": {}
        },
        {
          "output_type": "display_data",
          "data": {
            "text/plain": [
              "\u001b[1m Non-trainable params: \u001b[0m\u001b[38;5;34m0\u001b[0m (0.00 B)\n"
            ],
            "text/html": [
              "<pre style=\"white-space:pre;overflow-x:auto;line-height:normal;font-family:Menlo,'DejaVu Sans Mono',consolas,'Courier New',monospace\"><span style=\"font-weight: bold\"> Non-trainable params: </span><span style=\"color: #00af00; text-decoration-color: #00af00\">0</span> (0.00 B)\n",
              "</pre>\n"
            ]
          },
          "metadata": {}
        }
      ]
    },
    {
      "cell_type": "markdown",
      "source": [
        "Step 4: Model training and save model"
      ],
      "metadata": {
        "id": "3RwiH3ls0TEK"
      }
    },
    {
      "cell_type": "code",
      "source": [
        "from tensorflow.keras.callbacks import EarlyStopping, ModelCheckpoint\n",
        "# 設定 EarlyStopping，當驗證損失不再改善時停止訓練\n",
        "early_stopping = EarlyStopping(monitor=\"val_f1_score\", patience=10,mode=\"max\", restore_best_weights=True)\n",
        "\n",
        "# 訓練模型\n",
        "history = model.fit(\n",
        "  X_train, y_train,\n",
        "  epochs=50, batch_size=16,\n",
        "  validation_split=0.1,\n",
        "  callbacks=[early_stopping]\n",
        ")\n",
        "\n",
        "# 保存模型\n",
        "model.save(\"ecg_classification_model.h5\")\n",
        "print(\"模型已保存！\")"
      ],
      "metadata": {
        "id": "f9c_fnXTjzfV",
        "colab": {
          "base_uri": "https://localhost:8080/"
        },
        "outputId": "15ecca47-718c-41d0-b9be-206d94c187cb"
      },
      "execution_count": null,
      "outputs": [
        {
          "output_type": "stream",
          "name": "stdout",
          "text": [
            "Epoch 1/50\n",
            "\u001b[1m4925/4925\u001b[0m \u001b[32m━━━━━━━━━━━━━━━━━━━━\u001b[0m\u001b[37m\u001b[0m \u001b[1m266s\u001b[0m 54ms/step - accuracy: 0.9494 - loss: 0.2005 - val_accuracy: 0.1704 - val_loss: 18.1639\n",
            "Epoch 2/50\n",
            "\u001b[1m   2/4925\u001b[0m \u001b[37m━━━━━━━━━━━━━━━━━━━━\u001b[0m \u001b[1m5:42\u001b[0m 69ms/step - accuracy: 0.9531 - loss: 0.3511"
          ]
        },
        {
          "output_type": "stream",
          "name": "stderr",
          "text": [
            "/usr/local/lib/python3.11/dist-packages/keras/src/callbacks/early_stopping.py:153: UserWarning: Early stopping conditioned on metric `val_f1_score` which is not available. Available metrics are: accuracy,loss,val_accuracy,val_loss\n",
            "  current = self.get_monitor_value(logs)\n"
          ]
        },
        {
          "output_type": "stream",
          "name": "stdout",
          "text": [
            "\u001b[1m4925/4925\u001b[0m \u001b[32m━━━━━━━━━━━━━━━━━━━━\u001b[0m\u001b[37m\u001b[0m \u001b[1m264s\u001b[0m 54ms/step - accuracy: 0.9794 - loss: 0.0763 - val_accuracy: 0.1718 - val_loss: 26.3302\n",
            "Epoch 3/50\n",
            "\u001b[1m4925/4925\u001b[0m \u001b[32m━━━━━━━━━━━━━━━━━━━━\u001b[0m\u001b[37m\u001b[0m \u001b[1m266s\u001b[0m 54ms/step - accuracy: 0.9843 - loss: 0.0566 - val_accuracy: 0.1746 - val_loss: 32.3875\n",
            "Epoch 4/50\n",
            "\u001b[1m4925/4925\u001b[0m \u001b[32m━━━━━━━━━━━━━━━━━━━━\u001b[0m\u001b[37m\u001b[0m \u001b[1m325s\u001b[0m 55ms/step - accuracy: 0.9853 - loss: 0.0521 - val_accuracy: 0.1807 - val_loss: 43.9407\n",
            "Epoch 5/50\n",
            "\u001b[1m4925/4925\u001b[0m \u001b[32m━━━━━━━━━━━━━━━━━━━━\u001b[0m\u001b[37m\u001b[0m \u001b[1m325s\u001b[0m 55ms/step - accuracy: 0.9861 - loss: 0.0479 - val_accuracy: 0.1851 - val_loss: 56.0687\n",
            "Epoch 6/50\n",
            "\u001b[1m4925/4925\u001b[0m \u001b[32m━━━━━━━━━━━━━━━━━━━━\u001b[0m\u001b[37m\u001b[0m \u001b[1m320s\u001b[0m 55ms/step - accuracy: 0.9878 - loss: 0.0429 - val_accuracy: 0.1790 - val_loss: 47.0171\n",
            "Epoch 7/50\n",
            "\u001b[1m4925/4925\u001b[0m \u001b[32m━━━━━━━━━━━━━━━━━━━━\u001b[0m\u001b[37m\u001b[0m \u001b[1m269s\u001b[0m 55ms/step - accuracy: 0.9888 - loss: 0.0384 - val_accuracy: 0.1852 - val_loss: 53.1566\n",
            "Epoch 8/50\n",
            "\u001b[1m4925/4925\u001b[0m \u001b[32m━━━━━━━━━━━━━━━━━━━━\u001b[0m\u001b[37m\u001b[0m \u001b[1m344s\u001b[0m 59ms/step - accuracy: 0.9890 - loss: 0.0385 - val_accuracy: 0.1855 - val_loss: 64.8436\n",
            "Epoch 9/50\n",
            "\u001b[1m4925/4925\u001b[0m \u001b[32m━━━━━━━━━━━━━━━━━━━━\u001b[0m\u001b[37m\u001b[0m \u001b[1m307s\u001b[0m 56ms/step - accuracy: 0.9887 - loss: 0.0369 - val_accuracy: 0.1867 - val_loss: 93.7347\n",
            "Epoch 10/50\n",
            "\u001b[1m4925/4925\u001b[0m \u001b[32m━━━━━━━━━━━━━━━━━━━━\u001b[0m\u001b[37m\u001b[0m \u001b[1m314s\u001b[0m 54ms/step - accuracy: 0.9906 - loss: 0.0317 - val_accuracy: 0.1855 - val_loss: 64.3907\n",
            "Epoch 11/50\n",
            "\u001b[1m4925/4925\u001b[0m \u001b[32m━━━━━━━━━━━━━━━━━━━━\u001b[0m\u001b[37m\u001b[0m \u001b[1m325s\u001b[0m 55ms/step - accuracy: 0.9899 - loss: 0.0324 - val_accuracy: 0.1812 - val_loss: 79.2971\n",
            "Epoch 12/50\n",
            "\u001b[1m4925/4925\u001b[0m \u001b[32m━━━━━━━━━━━━━━━━━━━━\u001b[0m\u001b[37m\u001b[0m \u001b[1m320s\u001b[0m 55ms/step - accuracy: 0.9909 - loss: 0.0290 - val_accuracy: 0.1828 - val_loss: 65.0352\n",
            "Epoch 13/50\n",
            "\u001b[1m4925/4925\u001b[0m \u001b[32m━━━━━━━━━━━━━━━━━━━━\u001b[0m\u001b[37m\u001b[0m \u001b[1m332s\u001b[0m 57ms/step - accuracy: 0.9916 - loss: 0.0279 - val_accuracy: 0.1849 - val_loss: 122.7335\n",
            "Epoch 14/50\n",
            "\u001b[1m4925/4925\u001b[0m \u001b[32m━━━━━━━━━━━━━━━━━━━━\u001b[0m\u001b[37m\u001b[0m \u001b[1m313s\u001b[0m 55ms/step - accuracy: 0.9908 - loss: 0.0294 - val_accuracy: 0.1827 - val_loss: 121.6256\n",
            "Epoch 15/50\n",
            "\u001b[1m4925/4925\u001b[0m \u001b[32m━━━━━━━━━━━━━━━━━━━━\u001b[0m\u001b[37m\u001b[0m \u001b[1m320s\u001b[0m 55ms/step - accuracy: 0.9911 - loss: 0.0297 - val_accuracy: 0.1820 - val_loss: 146.5014\n",
            "Epoch 16/50\n",
            "\u001b[1m4925/4925\u001b[0m \u001b[32m━━━━━━━━━━━━━━━━━━━━\u001b[0m\u001b[37m\u001b[0m \u001b[1m271s\u001b[0m 55ms/step - accuracy: 0.9907 - loss: 0.0307 - val_accuracy: 0.1851 - val_loss: 82.8598\n",
            "Epoch 17/50\n",
            "\u001b[1m4925/4925\u001b[0m \u001b[32m━━━━━━━━━━━━━━━━━━━━\u001b[0m\u001b[37m\u001b[0m \u001b[1m323s\u001b[0m 55ms/step - accuracy: 0.9911 - loss: 0.0286 - val_accuracy: 0.1841 - val_loss: 101.7692\n",
            "Epoch 18/50\n",
            "\u001b[1m4925/4925\u001b[0m \u001b[32m━━━━━━━━━━━━━━━━━━━━\u001b[0m\u001b[37m\u001b[0m \u001b[1m321s\u001b[0m 55ms/step - accuracy: 0.9923 - loss: 0.0249 - val_accuracy: 0.1847 - val_loss: 82.3975\n",
            "Epoch 19/50\n",
            "\u001b[1m4925/4925\u001b[0m \u001b[32m━━━━━━━━━━━━━━━━━━━━\u001b[0m\u001b[37m\u001b[0m \u001b[1m270s\u001b[0m 55ms/step - accuracy: 0.9922 - loss: 0.0257 - val_accuracy: 0.1855 - val_loss: 101.6342\n",
            "Epoch 20/50\n",
            "\u001b[1m4925/4925\u001b[0m \u001b[32m━━━━━━━━━━━━━━━━━━━━\u001b[0m\u001b[37m\u001b[0m \u001b[1m275s\u001b[0m 56ms/step - accuracy: 0.9925 - loss: 0.0245 - val_accuracy: 0.1825 - val_loss: 136.0596\n",
            "Epoch 21/50\n",
            "\u001b[1m4925/4925\u001b[0m \u001b[32m━━━━━━━━━━━━━━━━━━━━\u001b[0m\u001b[37m\u001b[0m \u001b[1m270s\u001b[0m 55ms/step - accuracy: 0.9926 - loss: 0.0251 - val_accuracy: 0.1860 - val_loss: 104.6177\n",
            "Epoch 22/50\n",
            "\u001b[1m4925/4925\u001b[0m \u001b[32m━━━━━━━━━━━━━━━━━━━━\u001b[0m\u001b[37m\u001b[0m \u001b[1m326s\u001b[0m 56ms/step - accuracy: 0.9926 - loss: 0.0244 - val_accuracy: 0.1822 - val_loss: 130.3875\n",
            "Epoch 23/50\n",
            "\u001b[1m4925/4925\u001b[0m \u001b[32m━━━━━━━━━━━━━━━━━━━━\u001b[0m\u001b[37m\u001b[0m \u001b[1m269s\u001b[0m 55ms/step - accuracy: 0.9923 - loss: 0.0261 - val_accuracy: 0.1864 - val_loss: 188.6924\n",
            "Epoch 24/50\n",
            "\u001b[1m4925/4925\u001b[0m \u001b[32m━━━━━━━━━━━━━━━━━━━━\u001b[0m\u001b[37m\u001b[0m \u001b[1m323s\u001b[0m 55ms/step - accuracy: 0.9923 - loss: 0.0253 - val_accuracy: 0.1843 - val_loss: 155.1369\n",
            "Epoch 25/50\n",
            "\u001b[1m4925/4925\u001b[0m \u001b[32m━━━━━━━━━━━━━━━━━━━━\u001b[0m\u001b[37m\u001b[0m \u001b[1m268s\u001b[0m 54ms/step - accuracy: 0.9931 - loss: 0.0262 - val_accuracy: 0.1840 - val_loss: 166.4144\n",
            "Epoch 26/50\n",
            "\u001b[1m4925/4925\u001b[0m \u001b[32m━━━━━━━━━━━━━━━━━━━━\u001b[0m\u001b[37m\u001b[0m \u001b[1m323s\u001b[0m 55ms/step - accuracy: 0.9923 - loss: 0.0272 - val_accuracy: 0.1792 - val_loss: 105.4298\n",
            "Epoch 27/50\n",
            "\u001b[1m4925/4925\u001b[0m \u001b[32m━━━━━━━━━━━━━━━━━━━━\u001b[0m\u001b[37m\u001b[0m \u001b[1m319s\u001b[0m 54ms/step - accuracy: 0.9919 - loss: 0.0262 - val_accuracy: 0.1855 - val_loss: 173.2545\n",
            "Epoch 28/50\n",
            "\u001b[1m4925/4925\u001b[0m \u001b[32m━━━━━━━━━━━━━━━━━━━━\u001b[0m\u001b[37m\u001b[0m \u001b[1m327s\u001b[0m 55ms/step - accuracy: 0.9924 - loss: 0.0249 - val_accuracy: 0.1823 - val_loss: 310.0853\n",
            "Epoch 29/50\n",
            "\u001b[1m4925/4925\u001b[0m \u001b[32m━━━━━━━━━━━━━━━━━━━━\u001b[0m\u001b[37m\u001b[0m \u001b[1m319s\u001b[0m 54ms/step - accuracy: 0.9924 - loss: 0.0265 - val_accuracy: 0.1840 - val_loss: 79.6300\n",
            "Epoch 30/50\n",
            "\u001b[1m4925/4925\u001b[0m \u001b[32m━━━━━━━━━━━━━━━━━━━━\u001b[0m\u001b[37m\u001b[0m \u001b[1m322s\u001b[0m 54ms/step - accuracy: 0.9924 - loss: 0.0242 - val_accuracy: 0.1864 - val_loss: 179.5978\n",
            "Epoch 31/50\n",
            "\u001b[1m4925/4925\u001b[0m \u001b[32m━━━━━━━━━━━━━━━━━━━━\u001b[0m\u001b[37m\u001b[0m \u001b[1m270s\u001b[0m 55ms/step - accuracy: 0.9928 - loss: 0.0258 - val_accuracy: 0.1835 - val_loss: 92.4224\n",
            "Epoch 32/50\n",
            "\u001b[1m4925/4925\u001b[0m \u001b[32m━━━━━━━━━━━━━━━━━━━━\u001b[0m\u001b[37m\u001b[0m \u001b[1m274s\u001b[0m 56ms/step - accuracy: 0.9924 - loss: 0.0247 - val_accuracy: 0.1855 - val_loss: 111.9569\n",
            "Epoch 33/50\n",
            "\u001b[1m4925/4925\u001b[0m \u001b[32m━━━━━━━━━━━━━━━━━━━━\u001b[0m\u001b[37m\u001b[0m \u001b[1m273s\u001b[0m 55ms/step - accuracy: 0.9917 - loss: 0.0303 - val_accuracy: 0.1844 - val_loss: 224.2520\n",
            "Epoch 34/50\n",
            "\u001b[1m4925/4925\u001b[0m \u001b[32m━━━━━━━━━━━━━━━━━━━━\u001b[0m\u001b[37m\u001b[0m \u001b[1m327s\u001b[0m 56ms/step - accuracy: 0.9911 - loss: 0.0293 - val_accuracy: 0.1835 - val_loss: 97.6110\n",
            "Epoch 35/50\n",
            "\u001b[1m4925/4925\u001b[0m \u001b[32m━━━━━━━━━━━━━━━━━━━━\u001b[0m\u001b[37m\u001b[0m \u001b[1m312s\u001b[0m 54ms/step - accuracy: 0.9923 - loss: 0.0258 - val_accuracy: 0.1828 - val_loss: 247.1617\n",
            "Epoch 36/50\n",
            "\u001b[1m4925/4925\u001b[0m \u001b[32m━━━━━━━━━━━━━━━━━━━━\u001b[0m\u001b[37m\u001b[0m \u001b[1m326s\u001b[0m 55ms/step - accuracy: 0.9916 - loss: 0.0310 - val_accuracy: 0.1824 - val_loss: 164.6506\n",
            "Epoch 37/50\n",
            "\u001b[1m4925/4925\u001b[0m \u001b[32m━━━━━━━━━━━━━━━━━━━━\u001b[0m\u001b[37m\u001b[0m \u001b[1m276s\u001b[0m 56ms/step - accuracy: 0.9926 - loss: 0.0269 - val_accuracy: 0.1859 - val_loss: 138.5198\n",
            "Epoch 38/50\n",
            "\u001b[1m4925/4925\u001b[0m \u001b[32m━━━━━━━━━━━━━━━━━━━━\u001b[0m\u001b[37m\u001b[0m \u001b[1m320s\u001b[0m 56ms/step - accuracy: 0.9917 - loss: 0.0299 - val_accuracy: 0.1856 - val_loss: 94.8617\n",
            "Epoch 39/50\n",
            "\u001b[1m4925/4925\u001b[0m \u001b[32m━━━━━━━━━━━━━━━━━━━━\u001b[0m\u001b[37m\u001b[0m \u001b[1m319s\u001b[0m 55ms/step - accuracy: 0.9913 - loss: 0.0307 - val_accuracy: 0.1846 - val_loss: 190.8944\n",
            "Epoch 40/50\n",
            "\u001b[1m4925/4925\u001b[0m \u001b[32m━━━━━━━━━━━━━━━━━━━━\u001b[0m\u001b[37m\u001b[0m \u001b[1m323s\u001b[0m 55ms/step - accuracy: 0.9933 - loss: 0.0231 - val_accuracy: 0.1776 - val_loss: 121.9075\n",
            "Epoch 41/50\n",
            "\u001b[1m4925/4925\u001b[0m \u001b[32m━━━━━━━━━━━━━━━━━━━━\u001b[0m\u001b[37m\u001b[0m \u001b[1m321s\u001b[0m 55ms/step - accuracy: 0.9926 - loss: 0.0265 - val_accuracy: 0.1824 - val_loss: 308.0936\n",
            "Epoch 42/50\n",
            "\u001b[1m4925/4925\u001b[0m \u001b[32m━━━━━━━━━━━━━━━━━━━━\u001b[0m\u001b[37m\u001b[0m \u001b[1m323s\u001b[0m 55ms/step - accuracy: 0.9921 - loss: 0.0272 - val_accuracy: 0.1844 - val_loss: 167.6131\n",
            "Epoch 43/50\n",
            "\u001b[1m4925/4925\u001b[0m \u001b[32m━━━━━━━━━━━━━━━━━━━━\u001b[0m\u001b[37m\u001b[0m \u001b[1m325s\u001b[0m 56ms/step - accuracy: 0.9928 - loss: 0.0282 - val_accuracy: 0.1759 - val_loss: 172.4054\n",
            "Epoch 44/50\n",
            "\u001b[1m4925/4925\u001b[0m \u001b[32m━━━━━━━━━━━━━━━━━━━━\u001b[0m\u001b[37m\u001b[0m \u001b[1m320s\u001b[0m 56ms/step - accuracy: 0.9923 - loss: 0.0292 - val_accuracy: 0.1830 - val_loss: 169.4652\n",
            "Epoch 45/50\n",
            "\u001b[1m4925/4925\u001b[0m \u001b[32m━━━━━━━━━━━━━━━━━━━━\u001b[0m\u001b[37m\u001b[0m \u001b[1m317s\u001b[0m 55ms/step - accuracy: 0.9928 - loss: 0.0276 - val_accuracy: 0.1832 - val_loss: 139.7029\n",
            "Epoch 46/50\n",
            "\u001b[1m4925/4925\u001b[0m \u001b[32m━━━━━━━━━━━━━━━━━━━━\u001b[0m\u001b[37m\u001b[0m \u001b[1m321s\u001b[0m 54ms/step - accuracy: 0.9918 - loss: 0.0283 - val_accuracy: 0.1806 - val_loss: 205.0043\n",
            "Epoch 47/50\n",
            "\u001b[1m4925/4925\u001b[0m \u001b[32m━━━━━━━━━━━━━━━━━━━━\u001b[0m\u001b[37m\u001b[0m \u001b[1m324s\u001b[0m 55ms/step - accuracy: 0.9918 - loss: 0.0308 - val_accuracy: 0.1830 - val_loss: 152.2918\n",
            "Epoch 48/50\n",
            "\u001b[1m4925/4925\u001b[0m \u001b[32m━━━━━━━━━━━━━━━━━━━━\u001b[0m\u001b[37m\u001b[0m \u001b[1m325s\u001b[0m 55ms/step - accuracy: 0.9920 - loss: 0.0299 - val_accuracy: 0.1844 - val_loss: 110.8202\n",
            "Epoch 49/50\n",
            "\u001b[1m4925/4925\u001b[0m \u001b[32m━━━━━━━━━━━━━━━━━━━━\u001b[0m\u001b[37m\u001b[0m \u001b[1m327s\u001b[0m 56ms/step - accuracy: 0.9924 - loss: 0.0270 - val_accuracy: 0.1847 - val_loss: 171.8051\n",
            "Epoch 50/50\n",
            "\u001b[1m4925/4925\u001b[0m \u001b[32m━━━━━━━━━━━━━━━━━━━━\u001b[0m\u001b[37m\u001b[0m \u001b[1m273s\u001b[0m 56ms/step - accuracy: 0.9920 - loss: 0.0279 - val_accuracy: 0.1858 - val_loss: 119.0800\n"
          ]
        },
        {
          "output_type": "stream",
          "name": "stderr",
          "text": [
            "WARNING:absl:You are saving your model as an HDF5 file via `model.save()` or `keras.saving.save_model(model)`. This file format is considered legacy. We recommend using instead the native Keras format, e.g. `model.save('my_model.keras')` or `keras.saving.save_model(model, 'my_model.keras')`. \n"
          ]
        },
        {
          "output_type": "stream",
          "name": "stdout",
          "text": [
            "模型已保存！\n"
          ]
        }
      ]
    },
    {
      "cell_type": "markdown",
      "source": [
        "Step 5: Output confusion matrix"
      ],
      "metadata": {
        "id": "Ati9HtS20WNJ"
      }
    },
    {
      "cell_type": "code",
      "source": [
        "import seaborn as sns\n",
        "import matplotlib.pyplot as plt\n",
        "from sklearn.metrics import confusion_matrix\n",
        "\n",
        "# 預測測試集\n",
        "y_pred = model.predict(X_test)\n",
        "y_pred_classes = np.argmax(y_pred, axis=1)\n",
        "y_true = np.argmax(y_test, axis=1)\n",
        "\n",
        "# 計算混淆矩陣\n",
        "cm = confusion_matrix(y_true, y_pred_classes)\n",
        "\n",
        "# 繪製混淆矩陣\n",
        "plt.figure(figsize=(6,6))\n",
        "sns.heatmap(cm, annot=True, fmt=\"d\", cmap=\"Blues\", xticklabels=range(5), yticklabels=range(5))\n",
        "plt.xlabel(\"Prediction\")\n",
        "plt.ylabel(\"True\")\n",
        "plt.title(\"Confusion Matrix\")\n",
        "plt.show()\n"
      ],
      "metadata": {
        "id": "nvtfKt-ajxqr",
        "colab": {
          "base_uri": "https://localhost:8080/",
          "height": 582
        },
        "outputId": "fdfc848e-4578-4626-9c82-c17a935e8044"
      },
      "execution_count": null,
      "outputs": [
        {
          "output_type": "stream",
          "name": "stdout",
          "text": [
            "\u001b[1m685/685\u001b[0m \u001b[32m━━━━━━━━━━━━━━━━━━━━\u001b[0m\u001b[37m\u001b[0m \u001b[1m17s\u001b[0m 25ms/step\n"
          ]
        },
        {
          "output_type": "display_data",
          "data": {
            "text/plain": [
              "<Figure size 600x600 with 2 Axes>"
            ],
            "image/png": "[encoded data removed]"
          },
          "metadata": {}
        }
      ]
    },
    {
      "cell_type": "markdown",
      "source": [
        "Step 6: Output **Recall, Specificity, Precision, and F1 score** of each classes and a total **Accuracy**."
      ],
      "metadata": {
        "id": "n5oeUd3U0wCr"
      }
    },
    {
      "cell_type": "code",
      "source": [
        "from sklearn.metrics import classification_report\n",
        "\n",
        "# 計算 Recall、Precision、F1-score、Accuracy\n",
        "report = classification_report(y_true, y_pred_classes, target_names=[\"N\", \"S\", \"V\", \"F\", \"Q\"])\n",
        "print(report)\n",
        "\n",
        "# 計算 Specificity\n",
        "tn = np.diag(cm)  # 真負例\n",
        "fp = np.sum(cm, axis=0) - tn  # 偽陽性\n",
        "fn = np.sum(cm, axis=1) - tn  # 偽陰性\n",
        "tp = np.sum(cm) - (fp + fn + tn)  # 真陽性\n",
        "\n",
        "specificity = tn / (tn + fp)  # Specificity 計算公式\n",
        "average_specificity = np.mean(specificity)\n",
        "\n",
        "print(f\"平均 Specificity: {average_specificity:.2%}\")\n"
      ],
      "metadata": {
        "id": "nwQ8zWDpjvqb",
        "colab": {
          "base_uri": "https://localhost:8080/"
        },
        "outputId": "dd08bed4-6ad6-49ce-c1fa-c9cf49c8fe7d"
      },
      "execution_count": null,
      "outputs": [
        {
          "output_type": "stream",
          "name": "stdout",
          "text": [
            "              precision    recall  f1-score   support\n",
            "\n",
            "           N       0.96      1.00      0.98     18118\n",
            "           S       0.92      0.75      0.83       556\n",
            "           V       0.54      0.96      0.69      1448\n",
            "           F       0.00      0.00      0.00       162\n",
            "           Q       0.00      0.00      0.00      1608\n",
            "\n",
            "    accuracy                           0.91     21892\n",
            "   macro avg       0.48      0.54      0.50     21892\n",
            "weighted avg       0.85      0.91      0.87     21892\n",
            "\n",
            "平均 Specificity: nan%\n"
          ]
        },
        {
          "output_type": "stream",
          "name": "stderr",
          "text": [
            "/usr/local/lib/python3.11/dist-packages/sklearn/metrics/_classification.py:1565: UndefinedMetricWarning: Precision is ill-defined and being set to 0.0 in labels with no predicted samples. Use `zero_division` parameter to control this behavior.\n",
            "  _warn_prf(average, modifier, f\"{metric.capitalize()} is\", len(result))\n",
            "/usr/local/lib/python3.11/dist-packages/sklearn/metrics/_classification.py:1565: UndefinedMetricWarning: Precision is ill-defined and being set to 0.0 in labels with no predicted samples. Use `zero_division` parameter to control this behavior.\n",
            "  _warn_prf(average, modifier, f\"{metric.capitalize()} is\", len(result))\n",
            "/usr/local/lib/python3.11/dist-packages/sklearn/metrics/_classification.py:1565: UndefinedMetricWarning: Precision is ill-defined and being set to 0.0 in labels with no predicted samples. Use `zero_division` parameter to control this behavior.\n",
            "  _warn_prf(average, modifier, f\"{metric.capitalize()} is\", len(result))\n",
            "<ipython-input-6-2ea7b606ecf8>:13: RuntimeWarning: invalid value encountered in divide\n",
            "  specificity = tn / (tn + fp)  # Specificity 計算公式\n"
          ]
        }
      ]
    },
    {
      "cell_type": "markdown",
      "source": [],
      "metadata": {
        "id": "A3dS8BATkDh4"
      }
    }
  ]
}