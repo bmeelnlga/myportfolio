{
  "nbformat": 4,
  "nbformat_minor": 0,
  "metadata": {
    "colab": {
      "provenance": [],
      "include_colab_link": true
    },
    "kernelspec": {
      "name": "python3",
      "display_name": "Python 3"
    },
    "language_info": {
      "name": "python"
    }
  },
  "cells": [
    {
      "cell_type": "markdown",
      "metadata": {
        "id": "view-in-github",
        "colab_type": "text"
      },
      "source": [
        "<a href=\"https://colab.research.google.com/github/bmeelnlga/myportfolio/blob/main/%E9%81%B8%E6%93%87%E6%AC%8ACRR%E6%A8%A1%E5%9E%8B.ipynb\" target=\"_parent\"><img src=\"https://colab.research.google.com/assets/colab-badge.svg\" alt=\"Open In Colab\"/></a>"
      ]
    },
    {
      "cell_type": "code",
      "execution_count": null,
      "metadata": {
        "id": "7K9jncuU7EWo"
      },
      "outputs": [],
      "source": [
        "import numpy as np"
      ]
    },
    {
      "cell_type": "code",
      "source": [
        "#歐式選擇權參數設定\n",
        "#期初股價\n",
        "S0 = 100\n",
        "#履約價格\n",
        "K = 100\n",
        "#契約期間\n",
        "T = 1\n",
        "#無風險利率\n",
        "r = 0.0165\n",
        "#股票報酬率標準差\n",
        "sigma = np.sqrt(1.25)\n",
        "#考量期數\n",
        "M = 3\n",
        "#每期時段\n",
        "dt = T / M\n",
        "#折現因子\n",
        "df = np.exp(-r * dt)\n",
        "#股價上漲因子\n",
        "u = np.exp(sigma * np.sqrt(dt))\n",
        "#股價下跌因子\n",
        "d = 1 / u\n",
        "#風險中立下股價上漲對應的機率\n",
        "p = (np.exp(r * dt) - d) / (u - d)"
      ],
      "metadata": {
        "id": "e9-D-Aqr7Sap"
      },
      "execution_count": null,
      "outputs": []
    },
    {
      "cell_type": "code",
      "source": [
        "def binomial(x, y):  # x = -1 for put, 1 for call # y = 0 for European, 1 for American\n",
        "  S = np.zeros((M + 1,M + 1))  #將契約期間分為M期 故包含期初0 共有(M + 1)個時間點 因此建立一個(M + 1) * (M + 1)全為0的陣列 即將股價走勢設定於((M + 1) * (M + 1))的矩陣 值得注意的是Python陣列中 行列的起始值均為0 故行列均為 0,1,...,M 共(M + 1)\n",
        "  S [0 , 0] = S0  #期初股價起始點\n",
        "  for j in range(1, M + 1):  #j矩陣的column(行)表示第j期 因為期初股價已經設定S [0 , 0] = S0 故股價樹應建構第1期至第M期 其中range(1 , M + 1) python的顯示方式為由 1,2,3,...,M\n",
        "    for i in range(0, j+1):  #i矩陣的row(列)表示股價下跌的次數 以第2期為例 股價路徑包括 (u^2)SO (ud)S0 = (du)S0 (d^2)SO 3種可能路徑 其中range(0, 2+1)表示0(0次下跌),1(1次下跌),2(2次下跌)\n",
        "      S[i , j] = S[0 , 0] * (u ** (j-i)) * (d ** i)\n",
        "\n",
        "  iv = np.zeros((M + 1,M + 1))  #intrinsic value(iv)內涵價值或稱履約價值\n",
        "  for j in range(0, M + 1):\n",
        "    for i in range(0, j+1):\n",
        "      iv[i , j] = max(x * (S[i,j] - K), 0)  #x = -1 與 1 分別表示賣權與買權的內涵價值\n",
        "\n",
        "  pv = np.zeros((M + 1,M + 1))\n",
        "  pv[:, M] = iv[:, M]  #表示在第M期(期末)的現值 其中符號: 表示由第0列至第M列 等於內涵價值\n",
        "  for j in range(M-1, -1, -1):  #range(M-1, -1, -1)表示由後往前 第一項參數表示第M - 1期 第二項參數-1 表示往前至第0期(-1的前一項為0) 第三項參數-1表示每一次移動為往前一期\n",
        "    for i in range(0, j+1):\n",
        "      pv[i , j] =max( df * ((p * pv[i , j + 1]) + ((1 - p) * (pv[i + 1 , j + 1]))), y * iv[i , j])\n",
        "  return S, pv"
      ],
      "metadata": {
        "id": "k1KmPnxH_U0b"
      },
      "execution_count": null,
      "outputs": []
    },
    {
      "cell_type": "markdown",
      "source": [],
      "metadata": {
        "id": "kSrNpIJpjW2A"
      }
    },
    {
      "cell_type": "code",
      "source": [
        "binomial(-1,1)"
      ],
      "metadata": {
        "colab": {
          "base_uri": "https://localhost:8080/"
        },
        "id": "g3yh0LucNEkx",
        "outputId": "898b5600-8d92-40a9-d087-9f6354901629"
      },
      "execution_count": null,
      "outputs": [
        {
          "output_type": "execute_result",
          "data": {
            "text/plain": [
              "(array([[100.        , 190.69349681, 363.64009726, 693.43801728],\n",
              "        [  0.        ,  52.4401732 , 100.        , 190.69349681],\n",
              "        [  0.        ,   0.        ,  27.49971765,  52.4401732 ],\n",
              "        [  0.        ,   0.        ,   0.        ,  14.42089956]]),\n",
              " array([[44.32492509, 19.99705612,  0.        ,  0.        ],\n",
              "        [ 0.        , 57.68433474, 30.83920436,  0.        ],\n",
              "        [ 0.        ,  0.        , 72.50028235, 47.5598268 ],\n",
              "        [ 0.        ,  0.        ,  0.        , 85.57910044]]))"
            ]
          },
          "metadata": {},
          "execution_count": 4
        }
      ]
    },
    {
      "cell_type": "code",
      "source": [
        "!pip install yfinance\n",
        "import yfinance as yf"
      ],
      "metadata": {
        "colab": {
          "base_uri": "https://localhost:8080/"
        },
        "id": "4bc4KdU-PxDC",
        "outputId": "c49da209-637a-44f0-877e-40c321fb3524"
      },
      "execution_count": null,
      "outputs": [
        {
          "output_type": "stream",
          "name": "stdout",
          "text": [
            "Looking in indexes: https://pypi.org/simple, https://us-python.pkg.dev/colab-wheels/public/simple/\n",
            "Collecting yfinance\n",
            "  Downloading yfinance-0.1.87-py2.py3-none-any.whl (29 kB)\n",
            "Requirement already satisfied: lxml>=4.5.1 in /usr/local/lib/python3.7/dist-packages (from yfinance) (4.9.1)\n",
            "Requirement already satisfied: pandas>=0.24.0 in /usr/local/lib/python3.7/dist-packages (from yfinance) (1.3.5)\n",
            "Requirement already satisfied: appdirs>=1.4.4 in /usr/local/lib/python3.7/dist-packages (from yfinance) (1.4.4)\n",
            "Collecting requests>=2.26\n",
            "  Downloading requests-2.28.1-py3-none-any.whl (62 kB)\n",
            "\u001b[K     |████████████████████████████████| 62 kB 1.6 MB/s \n",
            "\u001b[?25hRequirement already satisfied: multitasking>=0.0.7 in /usr/local/lib/python3.7/dist-packages (from yfinance) (0.0.11)\n",
            "Requirement already satisfied: numpy>=1.15 in /usr/local/lib/python3.7/dist-packages (from yfinance) (1.21.6)\n",
            "Requirement already satisfied: pytz>=2017.3 in /usr/local/lib/python3.7/dist-packages (from pandas>=0.24.0->yfinance) (2022.6)\n",
            "Requirement already satisfied: python-dateutil>=2.7.3 in /usr/local/lib/python3.7/dist-packages (from pandas>=0.24.0->yfinance) (2.8.2)\n",
            "Requirement already satisfied: six>=1.5 in /usr/local/lib/python3.7/dist-packages (from python-dateutil>=2.7.3->pandas>=0.24.0->yfinance) (1.15.0)\n",
            "Requirement already satisfied: certifi>=2017.4.17 in /usr/local/lib/python3.7/dist-packages (from requests>=2.26->yfinance) (2022.9.24)\n",
            "Requirement already satisfied: charset-normalizer<3,>=2 in /usr/local/lib/python3.7/dist-packages (from requests>=2.26->yfinance) (2.1.1)\n",
            "Requirement already satisfied: urllib3<1.27,>=1.21.1 in /usr/local/lib/python3.7/dist-packages (from requests>=2.26->yfinance) (1.24.3)\n",
            "Requirement already satisfied: idna<4,>=2.5 in /usr/local/lib/python3.7/dist-packages (from requests>=2.26->yfinance) (2.10)\n",
            "Installing collected packages: requests, yfinance\n",
            "  Attempting uninstall: requests\n",
            "    Found existing installation: requests 2.23.0\n",
            "    Uninstalling requests-2.23.0:\n",
            "      Successfully uninstalled requests-2.23.0\n",
            "Successfully installed requests-2.28.1 yfinance-0.1.87\n"
          ]
        }
      ]
    },
    {
      "cell_type": "code",
      "source": [
        "data = yf.download(\"2330.TW\", start=\"2022-01-01\", end=\"2022-11-21\")[\"Close\"] #股價僅會抓至11-18\n",
        "print(data.head(5),data.tail(5))  #檢視前五筆與後五筆日股價\n",
        "\n",
        "returns = data.pct_change()  #日報酬率\n",
        "print(returns.head(5),returns.tail(5))  #檢視前五筆與後五筆日報酬率\n",
        "\n",
        "print(returns.describe())  #檢視日報酬率敘述統計表\n",
        "\n",
        "mean_daily = returns.mean()     #日平均報酬率\n",
        "print(mean_daily)\n",
        "sigma_daily = returns.std()     #日報酬率標準差\n",
        "print(sigma_daily)\n",
        "\n",
        "#把日報酬率標準差年化 *根號(交易天數)\n",
        "sigma_yearly = sigma_daily * np.sqrt(returns.count()) #假設每日報酬率相互獨立且有相同分配 年化變異數為日變異數乘以交易天數 年標準差即為日標準差乘以根號(交易天數)\n",
        "print(sigma_yearly)\n",
        "\n"
      ],
      "metadata": {
        "colab": {
          "base_uri": "https://localhost:8080/"
        },
        "id": "L_yLdeVXP8bz",
        "outputId": "8938fc83-4b3a-4630-c6d4-38d29284861b"
      },
      "execution_count": null,
      "outputs": [
        {
          "output_type": "stream",
          "name": "stdout",
          "text": [
            "\r[*********************100%***********************]  1 of 1 completed\n",
            "Date\n",
            "2022-01-03    631.0\n",
            "2022-01-04    656.0\n",
            "2022-01-05    650.0\n",
            "2022-01-06    644.0\n",
            "2022-01-07    634.0\n",
            "Name: Close, dtype: float64 Date\n",
            "2022-11-14    445.0\n",
            "2022-11-15    480.0\n",
            "2022-11-16    487.0\n",
            "2022-11-17    485.0\n",
            "2022-11-18    487.0\n",
            "Name: Close, dtype: float64\n",
            "Date\n",
            "2022-01-03         NaN\n",
            "2022-01-04    0.039620\n",
            "2022-01-05   -0.009146\n",
            "2022-01-06   -0.009231\n",
            "2022-01-07   -0.015528\n",
            "Name: Close, dtype: float64 Date\n",
            "2022-11-14    0.007928\n",
            "2022-11-15    0.078652\n",
            "2022-11-16    0.014583\n",
            "2022-11-17   -0.004107\n",
            "2022-11-18    0.004124\n",
            "Name: Close, dtype: float64\n",
            "count    215.000000\n",
            "mean      -0.000986\n",
            "std        0.020984\n",
            "min       -0.083333\n",
            "25%       -0.014476\n",
            "50%       -0.001996\n",
            "75%        0.012064\n",
            "max        0.083436\n",
            "Name: Close, dtype: float64\n",
            "-0.0009859085516816827\n",
            "0.02098358574248979\n",
            "0.3076797640106845\n"
          ]
        }
      ]
    }
  ]
}